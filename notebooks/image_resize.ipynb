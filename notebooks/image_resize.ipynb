{
 "cells": [
  {
   "cell_type": "markdown",
   "metadata": {},
   "source": [
    "# Map Image Resize\n",
    "This script is used to resize images to a 16:9 ratio using the PIL and resizer library.\n",
    "\n",
    "## Inputs\n",
    "The input folder is data/input/route_change_maps and looks for .pngs\n",
    "\n",
    "## Outputs\n",
    "The output folder is data/input/route_change_maps/resized and the images are in the 16:9 ratio.\n",
    "\n",
    "\n"
   ]
  },
  {
   "cell_type": "markdown",
   "metadata": {},
   "source": [
    "### Load modules"
   ]
  },
  {
   "cell_type": "code",
   "execution_count": 11,
   "metadata": {},
   "outputs": [],
   "source": [
    "from PIL import Image\n",
    "import os\n",
    "import shutil\n",
    "from resizeimage import resizeimage\n",
    "\n",
    "desired_size_w = 1280\n",
    "desired_size_h = 720\n",
    "directory = \"../data/input/route_change_maps/\"\n",
    "#define the folders to look through\n",
    "folder_path = os.listdir(directory)\n"
   ]
  },
  {
   "cell_type": "markdown",
   "metadata": {},
   "source": [
    "### Loop through the files"
   ]
  },
  {
   "cell_type": "code",
   "execution_count": 12,
   "metadata": {},
   "outputs": [
    {
     "name": "stdout",
     "output_type": "stream",
     "text": [
      "finished resizing Line 110.png\n",
      "finished resizing Line 154.png\n",
      "finished resizing Line 177.png\n",
      "finished resizing Line 179.png\n",
      "finished resizing Line 2.png\n",
      "finished resizing Line 200.png\n",
      "finished resizing Line 217.png\n",
      "finished resizing Line 230.png\n",
      "finished resizing Line 256.png\n",
      "finished resizing Line 260.png\n",
      "finished resizing Line 267.png\n",
      "finished resizing Line 4.png\n",
      "finished resizing Line 51.png\n",
      "finished resizing Line 53.png\n",
      "finished resizing Line 660.png\n",
      "finished resizing Line 78.png\n",
      "finished resizing Line 79.png\n",
      "resizing script finished\n"
     ]
    }
   ],
   "source": [
    "# loop through the folder to resize the pngs!\n",
    "for file in folder_path:\n",
    "    if file.endswith(\".png\"):        \n",
    "        img = Image.open(directory+file)\n",
    "        img = resizeimage.resize_contain(img, [desired_size_w, desired_size_h])\n",
    "        img.save(\"../data/input/route_change_maps/resized/\" + file)\n",
    "        print(\"finished resizing \" + file)\n",
    "print('resizing script finished')"
   ]
  }
 ],
 "metadata": {
  "interpreter": {
   "hash": "7c9313544d03373dbd8584603e7825c146326b23d229fda91fe5c8d2c1173eaa"
  },
  "kernelspec": {
   "display_name": "Python 3.9.5 64-bit ('metro': conda)",
   "language": "python",
   "name": "python3"
  },
  "language_info": {
   "codemirror_mode": {
    "name": "ipython",
    "version": 3
   },
   "file_extension": ".py",
   "mimetype": "text/x-python",
   "name": "python",
   "nbconvert_exporter": "python",
   "pygments_lexer": "ipython3",
   "version": "3.9.5"
  },
  "orig_nbformat": 4
 },
 "nbformat": 4,
 "nbformat_minor": 2
}
