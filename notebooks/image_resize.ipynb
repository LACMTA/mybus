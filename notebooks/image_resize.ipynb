{
 "cells": [
  {
   "cell_type": "markdown",
   "metadata": {},
   "source": [
    "# Map Image Resize\n",
    "This script is used to resize images to a 16:9 ratio using the PIL and resizer library.\n",
    "\n",
    "## Inputs\n",
    "The input folder is data/input/route_change_maps and looks for .pngs\n",
    "\n",
    "## Outputs\n",
    "The output folder is data/input/route_change_maps/resized and the images are in the 16:9 ratio.\n",
    "\n",
    "\n"
   ]
  },
  {
   "cell_type": "markdown",
   "metadata": {},
   "source": [
    "### Load modules"
   ]
  },
  {
   "cell_type": "code",
   "execution_count": 5,
   "metadata": {},
   "outputs": [],
   "source": [
    "from PIL import Image\n",
    "import os\n",
    "import shutil\n",
    "from resizeimage import resizeimage\n",
    "import json\n",
    "\n",
    "desired_size_width = 1280\n",
    "desired_size_height = 720\n",
    "directory = \"../data/input/route_change_maps/\"\n",
    "#define the folders to look through\n",
    "folder_path = os.listdir(directory)\n"
   ]
  },
  {
   "cell_type": "markdown",
   "metadata": {},
   "source": [
    "### Loop through the files"
   ]
  },
  {
   "cell_type": "code",
   "execution_count": 15,
   "metadata": {},
   "outputs": [
    {
     "name": "stdout",
     "output_type": "stream",
     "text": [
      "finished resizing Line 110.png\n",
      "finished resizing Line 154.png\n",
      "finished resizing Line 177.png\n",
      "finished resizing Line 179.png\n",
      "finished resizing Line 2.png\n",
      "finished resizing Line 200.png\n",
      "finished resizing Line 217.png\n",
      "finished resizing Line 230.png\n",
      "finished resizing Line 256.png\n",
      "finished resizing Line 260.png\n",
      "finished resizing Line 267.png\n",
      "finished resizing Line 4.png\n",
      "finished resizing Line 51.png\n",
      "finished resizing Line 53.png\n",
      "finished resizing Line 660.png\n",
      "finished resizing Line 78.png\n",
      "finished resizing Line 79.png\n",
      "resizing script finished\n"
     ]
    }
   ],
   "source": [
    "# loop through the folder to resize the pngs!\n",
    "for file in folder_path:\n",
    "    if file.endswith(\".png\"):        \n",
    "        img = Image.open(directory+file)\n",
    "        img = resizeimage.resize_contain(img, [desired_size_width, desired_size_height])\n",
    "        clean_file = file.replace(\" \", \"_\")\n",
    "        img.save(\"../data/maps/route-changes/\" + clean_file)\n",
    "        # print(\"finished resizing \" + file)\n",
    "print('resizing script finished')"
   ]
  },
  {
   "cell_type": "code",
   "execution_count": 20,
   "metadata": {},
   "outputs": [
    {
     "name": "stdout",
     "output_type": "stream",
     "text": [
      "{'110': ['./data/maps/route-changes/Line_110.png'], '154': ['./data/maps/route-changes/Line_154.png'], '177': ['./data/maps/route-changes/Line_177.png'], '179': ['./data/maps/route-changes/Line_179.png'], '2': ['./data/maps/route-changes/Line_2.png'], '200': ['./data/maps/route-changes/Line_200.png'], '217': ['./data/maps/route-changes/Line_217.png'], '230': ['./data/maps/route-changes/Line_230.png'], '256': ['./data/maps/route-changes/Line_256.png'], '260': ['./data/maps/route-changes/Line_260.png'], '267': ['./data/maps/route-changes/Line_267.png'], '4': ['./data/maps/route-changes/Line_4.png'], '51': ['./data/maps/route-changes/Line_51.png'], '53': ['./data/maps/route-changes/Line_53.png'], '660': ['./data/maps/route-changes/Line_660.png'], '78': ['./data/maps/route-changes/Line_78.png'], '79': ['./data/maps/route-changes/Line_79.png']}\n"
     ]
    }
   ],
   "source": [
    "resized_image_folder = \"../data/maps/route-changes/\"\n",
    "target_folder = os.listdir(resized_image_folder)\n",
    "route_change_maps = {}\n",
    "\n",
    "for file in target_folder:\n",
    "    file_name = file.split('.')[0]\n",
    "    shortened_resized_image_folder_path = resized_image_folder.replace(\"..\",\".\")\n",
    "    line_number = file_name.split('_')[1]\n",
    "    route_change_maps[line_number] = [shortened_resized_image_folder_path + file]\n",
    "\n",
    "with open('../data/route-change-maps.json', 'w') as output_file:\n",
    "    # map_json = json.dumps(route_change_maps, indent = 4)\n",
    "    json.dump(route_change_maps, output_file,indent=4)\n",
    "\n",
    "print(route_change_maps)"
   ]
  }
 ],
 "metadata": {
  "interpreter": {
   "hash": "7c9313544d03373dbd8584603e7825c146326b23d229fda91fe5c8d2c1173eaa"
  },
  "kernelspec": {
   "display_name": "Python 3.9.5 64-bit ('metro': conda)",
   "language": "python",
   "name": "python3"
  },
  "language_info": {
   "codemirror_mode": {
    "name": "ipython",
    "version": 3
   },
   "file_extension": ".py",
   "mimetype": "text/x-python",
   "name": "python",
   "nbconvert_exporter": "python",
   "pygments_lexer": "ipython3",
   "version": "3.9.5"
  },
  "orig_nbformat": 4
 },
 "nbformat": 4,
 "nbformat_minor": 2
}
