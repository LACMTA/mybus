{
 "metadata": {
  "language_info": {
   "codemirror_mode": {
    "name": "ipython",
    "version": 3
   },
   "file_extension": ".py",
   "mimetype": "text/x-python",
   "name": "python",
   "nbconvert_exporter": "python",
   "pygments_lexer": "ipython3",
   "version": "3.9.0"
  },
  "orig_nbformat": 2,
  "kernelspec": {
   "name": "python3",
   "display_name": "Python 3.9.0 64-bit ('gis': conda)"
  },
  "metadata": {
   "interpreter": {
    "hash": "31f2aee4e71d21fbe5cf8b01ff0e069b9275f58929596ceb00d14d90e3e16cd6"
   }
  },
  "interpreter": {
   "hash": "7a46b998b638738956c1932bf84805bb003d57ec03ebcde4956dccddef721556"
  }
 },
 "nbformat": 4,
 "nbformat_minor": 2,
 "cells": [
  {
   "cell_type": "markdown",
   "source": [
    "# Overview\n",
    "\n",
    "This Jupyter Notebook takes in data from a Google Sheet that contains line change details and their associated high level categories and outputs a JSON file for the MyBus tool.\n",
    "\n",
    "The output file is used by the MyBus tool's results page and contains the Line-level changes that are displayed there.\n",
    "\n",
    "Run all cells to generate: `lines-changes.json`"
   ],
   "metadata": {}
  },
  {
   "cell_type": "code",
   "execution_count": 1,
   "source": [
    "# import shutil\r\n",
    "import os\r\n",
    "\r\n",
    "#define the folders to look through\r\n",
    "folders = os.listdir(\"../files/schedules\")\r\n",
    "\r\n",
    "#set an array for the file types\r\n",
    "pdfs_list = []\r\n",
    "\r\n",
    "#create a list of file types\r\n",
    "for root, dirs, files in os.walk(\"../files/schedules\"):\r\n",
    "    for filename in files:\r\n",
    "        lines = filename.replace(\" \",\"\").split(\"_TT\")[0].split(\"-\")\r\n",
    "        for line in lines:\r\n",
    "            this_schedule = {}\r\n",
    "            this_schedule['line'] = line.lstrip(\"0\")\r\n",
    "            this_schedule['new-schedule'] = \"./files/schedules/\"+filename\r\n",
    "            pdfs_list.append(this_schedule)\r\n",
    "            # print(line)\r\n",
    "# print(pdfs_list)\r\n",
    "\r\n",
    "schedule_df = pd.DataFrame(pdfs_list)\r\n",
    "schedule_df.tail(10)"
   ],
   "outputs": [
    {
     "output_type": "error",
     "ename": "NameError",
     "evalue": "name 'pd' is not defined",
     "traceback": [
      "\u001b[1;31m---------------------------------------------------------------------------\u001b[0m",
      "\u001b[1;31mNameError\u001b[0m                                 Traceback (most recent call last)",
      "\u001b[1;32m<ipython-input-1-8f31d6b0d05c>\u001b[0m in \u001b[0;36m<module>\u001b[1;34m\u001b[0m\n\u001b[0;32m     20\u001b[0m \u001b[1;31m# print(pdfs_list)\u001b[0m\u001b[1;33m\u001b[0m\u001b[1;33m\u001b[0m\u001b[1;33m\u001b[0m\u001b[0m\n\u001b[0;32m     21\u001b[0m \u001b[1;33m\u001b[0m\u001b[0m\n\u001b[1;32m---> 22\u001b[1;33m \u001b[0mschedule_df\u001b[0m \u001b[1;33m=\u001b[0m \u001b[0mpd\u001b[0m\u001b[1;33m.\u001b[0m\u001b[0mDataFrame\u001b[0m\u001b[1;33m(\u001b[0m\u001b[0mpdfs_list\u001b[0m\u001b[1;33m)\u001b[0m\u001b[1;33m\u001b[0m\u001b[1;33m\u001b[0m\u001b[0m\n\u001b[0m\u001b[0;32m     23\u001b[0m \u001b[0mschedule_df\u001b[0m\u001b[1;33m.\u001b[0m\u001b[0mtail\u001b[0m\u001b[1;33m(\u001b[0m\u001b[1;36m10\u001b[0m\u001b[1;33m)\u001b[0m\u001b[1;33m\u001b[0m\u001b[1;33m\u001b[0m\u001b[0m\n",
      "\u001b[1;31mNameError\u001b[0m: name 'pd' is not defined"
     ]
    }
   ],
   "metadata": {}
  },
  {
   "cell_type": "code",
   "execution_count": 1,
   "source": [
    "import pandas as pd\r\n",
    "DATA_INPUT_PATH = 'data-input/'\r\n",
    "DATA_OUTPUT_PATH = 'data-output/'"
   ],
   "outputs": [],
   "metadata": {}
  },
  {
   "cell_type": "code",
   "execution_count": 2,
   "source": [
    "line_changes = pd.read_csv(DATA_INPUT_PATH + 'mybus-line-changes-data.csv',\r\n",
    "    usecols={'Line Number', 'Line Label', 'Line Description', 'Lines Merged', 'Line Discontinued', 'Service Restored', 'Service', 'Route', 'Schedule', 'Schedule URL', 'Current Schedule URL'})\r\n",
    "\r\n",
    "line_changes.columns = [\"line-number\",\"line-label\",\"line-description\",\"lines-merged\",\"line-discontinued\",\"service-restored\",\"card-1\",\"card-2\",\"card-3\",\"schedule-url\", \"current-schedule-url\"]\r\n",
    "\r\n",
    "line_changes = line_changes.fillna('')\r\n",
    "line_changes.head()"
   ],
   "outputs": [
    {
     "output_type": "execute_result",
     "data": {
      "text/plain": [
       "   line-number line-label                                line-description  \\\n",
       "0            2          2            Downtown LA - Westwood via Sunset Bl   \n",
       "1            4          4  Downtown LA - Santa Monica via Santa Monica Bl   \n",
       "2           10         10     West Hollywood - Downtown LA via Melrose Av   \n",
       "3           14         14     Beverly Center - Downtown LA via Beverly Bl   \n",
       "4           16         16    Downtown LA - West Hollywood via West 3rd St   \n",
       "\n",
       "   lines-merged  line-discontinued  service-restored card-1 card-2 card-3  \\\n",
       "0         False              False             False                        \n",
       "1          True              False             False                        \n",
       "2         False              False             False                        \n",
       "3         False              False             False                        \n",
       "4         False              False             False                        \n",
       "\n",
       "  schedule-url current-schedule-url  \n",
       "0                                    \n",
       "1                                    \n",
       "2                                    \n",
       "3                                    \n",
       "4                                    "
      ],
      "text/html": [
       "<div>\n",
       "<style scoped>\n",
       "    .dataframe tbody tr th:only-of-type {\n",
       "        vertical-align: middle;\n",
       "    }\n",
       "\n",
       "    .dataframe tbody tr th {\n",
       "        vertical-align: top;\n",
       "    }\n",
       "\n",
       "    .dataframe thead th {\n",
       "        text-align: right;\n",
       "    }\n",
       "</style>\n",
       "<table border=\"1\" class=\"dataframe\">\n",
       "  <thead>\n",
       "    <tr style=\"text-align: right;\">\n",
       "      <th></th>\n",
       "      <th>line-number</th>\n",
       "      <th>line-label</th>\n",
       "      <th>line-description</th>\n",
       "      <th>lines-merged</th>\n",
       "      <th>line-discontinued</th>\n",
       "      <th>service-restored</th>\n",
       "      <th>card-1</th>\n",
       "      <th>card-2</th>\n",
       "      <th>card-3</th>\n",
       "      <th>schedule-url</th>\n",
       "      <th>current-schedule-url</th>\n",
       "    </tr>\n",
       "  </thead>\n",
       "  <tbody>\n",
       "    <tr>\n",
       "      <th>0</th>\n",
       "      <td>2</td>\n",
       "      <td>2</td>\n",
       "      <td>Downtown LA - Westwood via Sunset Bl</td>\n",
       "      <td>False</td>\n",
       "      <td>False</td>\n",
       "      <td>False</td>\n",
       "      <td></td>\n",
       "      <td></td>\n",
       "      <td></td>\n",
       "      <td></td>\n",
       "      <td></td>\n",
       "    </tr>\n",
       "    <tr>\n",
       "      <th>1</th>\n",
       "      <td>4</td>\n",
       "      <td>4</td>\n",
       "      <td>Downtown LA - Santa Monica via Santa Monica Bl</td>\n",
       "      <td>True</td>\n",
       "      <td>False</td>\n",
       "      <td>False</td>\n",
       "      <td></td>\n",
       "      <td></td>\n",
       "      <td></td>\n",
       "      <td></td>\n",
       "      <td></td>\n",
       "    </tr>\n",
       "    <tr>\n",
       "      <th>2</th>\n",
       "      <td>10</td>\n",
       "      <td>10</td>\n",
       "      <td>West Hollywood - Downtown LA via Melrose Av</td>\n",
       "      <td>False</td>\n",
       "      <td>False</td>\n",
       "      <td>False</td>\n",
       "      <td></td>\n",
       "      <td></td>\n",
       "      <td></td>\n",
       "      <td></td>\n",
       "      <td></td>\n",
       "    </tr>\n",
       "    <tr>\n",
       "      <th>3</th>\n",
       "      <td>14</td>\n",
       "      <td>14</td>\n",
       "      <td>Beverly Center - Downtown LA via Beverly Bl</td>\n",
       "      <td>False</td>\n",
       "      <td>False</td>\n",
       "      <td>False</td>\n",
       "      <td></td>\n",
       "      <td></td>\n",
       "      <td></td>\n",
       "      <td></td>\n",
       "      <td></td>\n",
       "    </tr>\n",
       "    <tr>\n",
       "      <th>4</th>\n",
       "      <td>16</td>\n",
       "      <td>16</td>\n",
       "      <td>Downtown LA - West Hollywood via West 3rd St</td>\n",
       "      <td>False</td>\n",
       "      <td>False</td>\n",
       "      <td>False</td>\n",
       "      <td></td>\n",
       "      <td></td>\n",
       "      <td></td>\n",
       "      <td></td>\n",
       "      <td></td>\n",
       "    </tr>\n",
       "  </tbody>\n",
       "</table>\n",
       "</div>"
      ]
     },
     "metadata": {},
     "execution_count": 2
    }
   ],
   "metadata": {}
  },
  {
   "cell_type": "code",
   "execution_count": 3,
   "source": [
    "line_changes.to_json(DATA_OUTPUT_PATH + 'line-changes.json', orient='records')\r\n",
    "\r\n",
    "# As of 8/16/21 - total should be 125 lines.\r\n",
    "\r\n",
    "# As of 7/14/21 - 2 new lines added in the 7/18/21 service update (lines 235 & 622)\r\n",
    "# Total should be 150 lines\r\n",
    "# As of 5/28/21 - should contain 148 lines total\r\n",
    "# 141 existing lines + 7 new lines\r\n",
    "print(str(len(line_changes)) + ' lines')\r\n"
   ],
   "outputs": [
    {
     "output_type": "stream",
     "name": "stdout",
     "text": [
      "125 lines\n"
     ]
    }
   ],
   "metadata": {}
  }
 ]
}